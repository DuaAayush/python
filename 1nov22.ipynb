{
 "cells": [
  {
   "cell_type": "code",
   "execution_count": 10,
   "id": "b2cb67af",
   "metadata": {},
   "outputs": [
    {
     "name": "stdout",
     "output_type": "stream",
     "text": [
      "enter the year 1250\n",
      "1250  is not a leap year\n"
     ]
    }
   ],
   "source": [
    "n=int(input(\"enter the year \",))\n",
    "if n%400==0:\n",
    "    print(n,\" is a leap year\")\n",
    "elif n%100==0:\n",
    "    print(n,\" is not a leap year\")\n",
    "elif n%4==0:\n",
    "    print(n,\" is a leap year\")\n",
    "else:\n",
    "    print(n,\" is not a leap year\")\n",
    "    "
   ]
  },
  {
   "cell_type": "code",
   "execution_count": null,
   "id": "439b5cdc",
   "metadata": {},
   "outputs": [],
   "source": [
    "n=int(input())\n"
   ]
  }
 ],
 "metadata": {
  "kernelspec": {
   "display_name": "Python 3 (ipykernel)",
   "language": "python",
   "name": "python3"
  },
  "language_info": {
   "codemirror_mode": {
    "name": "ipython",
    "version": 3
   },
   "file_extension": ".py",
   "mimetype": "text/x-python",
   "name": "python",
   "nbconvert_exporter": "python",
   "pygments_lexer": "ipython3",
   "version": "3.9.12"
  }
 },
 "nbformat": 4,
 "nbformat_minor": 5
}
