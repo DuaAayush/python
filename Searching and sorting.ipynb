{
 "cells": [
  {
   "cell_type": "markdown",
   "id": "83b32a0a",
   "metadata": {},
   "source": [
    "# Bubble sort"
   ]
  },
  {
   "cell_type": "code",
   "execution_count": 8,
   "id": "41d65b19",
   "metadata": {},
   "outputs": [
    {
     "name": "stdout",
     "output_type": "stream",
     "text": [
      "[-9, -2, 0, 11, 45]\n"
     ]
    }
   ],
   "source": [
    "def bubbleSort(array):\n",
    "    for i in range(len(array)):\n",
    "        for j in range(0, len(array) - i - 1):\n",
    "            if array[j] > array[j + 1]:\n",
    "                temp = array[j]\n",
    "                array[j] = array[j+1]\n",
    "                array[j+1] = temp\n",
    "data = [-2, 45, 0, 11, -9]\n",
    "bubbleSort(data)\n",
    "print(data)"
   ]
  },
  {
   "cell_type": "markdown",
   "id": "a0d012fe",
   "metadata": {},
   "source": [
    "### selection sort"
   ]
  },
  {
   "cell_type": "code",
   "execution_count": 20,
   "id": "b21bc773",
   "metadata": {},
   "outputs": [
    {
     "name": "stdout",
     "output_type": "stream",
     "text": [
      "[-202, -97, -9, -2, 11, 0, 45, 88, 747]\n"
     ]
    }
   ],
   "source": [
    "def selectionSort(array, size):\n",
    "    for ind in range(size):\n",
    "        min_index = ind\n",
    "        for j in range(ind + 1, size):\n",
    "            if array[j] < array[min_index]:\n",
    "                min_index = j\n",
    "                (array[ind], array[min_index]) = (array[min_index], array[ind])\n",
    "arr = [-2, 45, 0, 11, -9,88,-97,-202,747]\n",
    "size = len(arr)\n",
    "selectionSort(arr, size)\n",
    "print(arr)"
   ]
  },
  {
   "cell_type": "markdown",
   "id": "40350416",
   "metadata": {},
   "source": [
    "### insertion sort"
   ]
  },
  {
   "cell_type": "code",
   "execution_count": 22,
   "id": "eace2f32",
   "metadata": {},
   "outputs": [
    {
     "name": "stdout",
     "output_type": "stream",
     "text": [
      "1 8 9 2 3 4\n",
      "[1, 2, 3, 4, 8, 9]\n"
     ]
    }
   ],
   "source": [
    "a=[int(i)for i in input().split()]\n",
    "n=len(a)\n",
    "for i in range(1,n):\n",
    "    min=a[i]\n",
    "    j=i-1\n",
    "    while j>=0 and min<a[j]:\n",
    "        a[j+1]=a[j]\n",
    "        j=j-1\n",
    "        a[j+1]=min\n",
    "print(a)"
   ]
  }
 ],
 "metadata": {
  "kernelspec": {
   "display_name": "Python 3 (ipykernel)",
   "language": "python",
   "name": "python3"
  },
  "language_info": {
   "codemirror_mode": {
    "name": "ipython",
    "version": 3
   },
   "file_extension": ".py",
   "mimetype": "text/x-python",
   "name": "python",
   "nbconvert_exporter": "python",
   "pygments_lexer": "ipython3",
   "version": "3.9.12"
  }
 },
 "nbformat": 4,
 "nbformat_minor": 5
}
